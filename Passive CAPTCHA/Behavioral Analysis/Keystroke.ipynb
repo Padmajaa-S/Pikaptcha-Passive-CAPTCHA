{
  "cells": [
    {
      "cell_type": "code",
      "execution_count": 20,
      "metadata": {
        "id": "E85Mo21TVyJv"
      },
      "outputs": [],
      "source": [
        "import numpy as np\n",
        "import pandas as pd\n",
        "from sklearn.model_selection import train_test_split\n",
        "from sklearn.preprocessing import StandardScaler\n",
        "from tensorflow.keras.models import Sequential\n",
        "from tensorflow.keras.layers import LSTM, Dense, Dropout, BatchNormalization\n",
        "from tensorflow.keras.callbacks import EarlyStopping, ReduceLROnPlateau\n",
        "from tensorflow.keras.regularizers import l2\n",
        "from scipy.stats import entropy\n",
        "import webbrowser\n"
      ]
    },
    {
      "cell_type": "code",
      "execution_count": 3,
      "metadata": {
        "id": "qXURRtn7COwY"
      },
      "outputs": [],
      "source": [
        "df=pd.read_csv(r\"C:\\Users\\Padmajaa\\OneDrive - SSN Trust\\INTEL CBE\\extended_keystroke_data.csv\")"
      ]
    },
    {
      "cell_type": "code",
      "execution_count": 4,
      "metadata": {
        "colab": {
          "base_uri": "https://localhost:8080/"
        },
        "id": "PCkvnwM1DGBR",
        "outputId": "049e1ab1-e1da-4a40-efce-def206e23f74"
      },
      "outputs": [
        {
          "name": "stdout",
          "output_type": "stream",
          "text": [
            "Dataset shape: (30000, 17)\n",
            "\n",
            "Feature summary:\n",
            "       avg_keystroke_time  std_keystroke_time  avg_pause_time  std_pause_time  \\\n",
            "count        30000.000000        30000.000000    30000.000000    30000.000000   \n",
            "mean             0.125015            0.029564        0.299886        0.123109   \n",
            "std              0.075180            0.020050        0.200939        0.075384   \n",
            "min              0.044156            0.005124        0.068358        0.023456   \n",
            "25%              0.050007            0.009859        0.100043        0.049234   \n",
            "50%              0.108581            0.020703        0.246610        0.091680   \n",
            "75%              0.199969            0.049281        0.499591        0.196799   \n",
            "max              0.232398            0.076009        0.651534        0.300335   \n",
            "\n",
            "       avg_key_hold_time  std_key_hold_time  typing_speed  rhythm_consistency  \\\n",
            "count       30000.000000       30000.000000  30000.000000        3.000000e+04   \n",
            "mean            0.074991           0.019689      6.026807                -inf   \n",
            "std             0.025189           0.010107      4.052663                 NaN   \n",
            "min             0.043486           0.004745      1.534840                -inf   \n",
            "25%             0.049980           0.009834      2.001639        3.643384e+00   \n",
            "50%             0.069363           0.015735      5.079883        4.053660e+00   \n",
            "75%             0.099983           0.029557      9.995747        4.350286e+00   \n",
            "max             0.121265           0.044156     14.628859        4.582427e+00   \n",
            "\n",
            "       avg_key_distance  std_key_distance    error_rate  correction_rate  \\\n",
            "count      30000.000000      30000.000000  30000.000000     30000.000000   \n",
            "mean           1.750018          0.739567      0.024990         0.366907   \n",
            "std            0.274730          0.259383      0.033314         0.438438   \n",
            "min            1.166370          0.265374      0.000000         0.000000   \n",
            "25%            1.499240          0.492378      0.000000         0.000000   \n",
            "50%            1.667571          0.662975      0.000000         0.000000   \n",
            "75%            2.001369          0.987240      0.046512         0.857143   \n",
            "max            2.668890          1.444184      0.250000         1.000000   \n",
            "\n",
            "       copy_paste_frequency   mouse_speed  mouse_acceleration    mouse_jerk  \n",
            "count          30000.000000  30000.000000        30000.000000  30000.000000  \n",
            "mean               0.059950    650.162273          150.013927     75.084940  \n",
            "std                0.052213    169.297791           62.663220     33.523465  \n",
            "min                0.000000    -22.066002          -14.407878    -18.866625  \n",
            "25%                0.015873    499.874875           99.207402     49.170263  \n",
            "50%                0.046154    699.465865          128.838980     62.527469  \n",
            "75%                0.097561    800.082161          199.818748     99.967498  \n",
            "max                0.375000   1024.572182          388.551614    233.928316  \n",
            "\n",
            "Correlation with target:\n"
          ]
        },
        {
          "name": "stderr",
          "output_type": "stream",
          "text": [
            "c:\\Users\\Padmajaa\\AppData\\Local\\Programs\\Python\\Python311\\Lib\\site-packages\\pandas\\core\\nanops.py:1010: RuntimeWarning: invalid value encountered in subtract\n",
            "  sqr = _ensure_numeric((avg - values) ** 2)\n"
          ]
        }
      ],
      "source": [
        "print(\"Dataset shape:\", df.shape)\n",
        "print(\"\\nFeature summary:\")\n",
        "print(df.describe())\n",
        "\n",
        "print(\"\\nCorrelation with target:\")\n",
        "df['target'] = (df['target'] == 'bot').astype(int)\n"
      ]
    },
    {
      "cell_type": "code",
      "execution_count": 5,
      "metadata": {
        "id": "tq8pl0UEsyDu"
      },
      "outputs": [],
      "source": [
        "columns = [\n",
        "    'avg_keystroke_time', 'std_keystroke_time',\n",
        "    'avg_pause_time', 'std_pause_time',\n",
        "    'avg_key_hold_time', 'std_key_hold_time',\n",
        "    'typing_speed', 'rhythm_consistency',\n",
        "    'avg_key_distance', 'std_key_distance',\n",
        "    'error_rate', 'correction_rate',\n",
        "    'copy_paste_frequency',\n",
        "    'mouse_speed', 'mouse_acceleration', 'mouse_jerk'\n",
        "]"
      ]
    },
    {
      "cell_type": "code",
      "execution_count": 6,
      "metadata": {
        "colab": {
          "base_uri": "https://localhost:8080/",
          "height": 226
        },
        "id": "gfzT7WentxLw",
        "outputId": "fefa72f3-1a81-4b69-adf8-eaa5fab8f6c4"
      },
      "outputs": [
        {
          "data": {
            "text/html": [
              "<div>\n",
              "<style scoped>\n",
              "    .dataframe tbody tr th:only-of-type {\n",
              "        vertical-align: middle;\n",
              "    }\n",
              "\n",
              "    .dataframe tbody tr th {\n",
              "        vertical-align: top;\n",
              "    }\n",
              "\n",
              "    .dataframe thead th {\n",
              "        text-align: right;\n",
              "    }\n",
              "</style>\n",
              "<table border=\"1\" class=\"dataframe\">\n",
              "  <thead>\n",
              "    <tr style=\"text-align: right;\">\n",
              "      <th></th>\n",
              "      <th>avg_keystroke_time</th>\n",
              "      <th>std_keystroke_time</th>\n",
              "      <th>avg_pause_time</th>\n",
              "      <th>std_pause_time</th>\n",
              "      <th>avg_key_hold_time</th>\n",
              "      <th>std_key_hold_time</th>\n",
              "      <th>typing_speed</th>\n",
              "      <th>rhythm_consistency</th>\n",
              "      <th>avg_key_distance</th>\n",
              "      <th>std_key_distance</th>\n",
              "      <th>error_rate</th>\n",
              "      <th>correction_rate</th>\n",
              "      <th>copy_paste_frequency</th>\n",
              "      <th>mouse_speed</th>\n",
              "      <th>mouse_acceleration</th>\n",
              "      <th>mouse_jerk</th>\n",
              "      <th>target</th>\n",
              "    </tr>\n",
              "  </thead>\n",
              "  <tbody>\n",
              "    <tr>\n",
              "      <th>0</th>\n",
              "      <td>0.049956</td>\n",
              "      <td>0.009726</td>\n",
              "      <td>0.101877</td>\n",
              "      <td>0.044440</td>\n",
              "      <td>0.050494</td>\n",
              "      <td>0.008220</td>\n",
              "      <td>9.815740</td>\n",
              "      <td>4.491740</td>\n",
              "      <td>1.430957</td>\n",
              "      <td>0.532054</td>\n",
              "      <td>0.000000</td>\n",
              "      <td>0.0</td>\n",
              "      <td>0.109890</td>\n",
              "      <td>855.816058</td>\n",
              "      <td>84.965308</td>\n",
              "      <td>43.612724</td>\n",
              "      <td>1</td>\n",
              "    </tr>\n",
              "    <tr>\n",
              "      <th>1</th>\n",
              "      <td>0.051875</td>\n",
              "      <td>0.011260</td>\n",
              "      <td>0.108548</td>\n",
              "      <td>0.048142</td>\n",
              "      <td>0.048437</td>\n",
              "      <td>0.009646</td>\n",
              "      <td>9.212542</td>\n",
              "      <td>4.223511</td>\n",
              "      <td>1.481098</td>\n",
              "      <td>0.454601</td>\n",
              "      <td>0.000000</td>\n",
              "      <td>0.0</td>\n",
              "      <td>0.100000</td>\n",
              "      <td>902.853033</td>\n",
              "      <td>127.843407</td>\n",
              "      <td>49.040961</td>\n",
              "      <td>1</td>\n",
              "    </tr>\n",
              "    <tr>\n",
              "      <th>2</th>\n",
              "      <td>0.188867</td>\n",
              "      <td>0.052601</td>\n",
              "      <td>0.478537</td>\n",
              "      <td>0.198715</td>\n",
              "      <td>0.099359</td>\n",
              "      <td>0.030551</td>\n",
              "      <td>2.089704</td>\n",
              "      <td>4.523323</td>\n",
              "      <td>2.102486</td>\n",
              "      <td>1.043184</td>\n",
              "      <td>0.052083</td>\n",
              "      <td>1.0</td>\n",
              "      <td>0.010417</td>\n",
              "      <td>612.503804</td>\n",
              "      <td>178.327462</td>\n",
              "      <td>123.181083</td>\n",
              "      <td>0</td>\n",
              "    </tr>\n",
              "    <tr>\n",
              "      <th>3</th>\n",
              "      <td>0.048219</td>\n",
              "      <td>0.010992</td>\n",
              "      <td>0.110243</td>\n",
              "      <td>0.059738</td>\n",
              "      <td>0.047159</td>\n",
              "      <td>0.009636</td>\n",
              "      <td>9.070844</td>\n",
              "      <td>3.406915</td>\n",
              "      <td>1.461653</td>\n",
              "      <td>0.424880</td>\n",
              "      <td>0.000000</td>\n",
              "      <td>0.0</td>\n",
              "      <td>0.000000</td>\n",
              "      <td>754.754488</td>\n",
              "      <td>146.790163</td>\n",
              "      <td>22.577720</td>\n",
              "      <td>1</td>\n",
              "    </tr>\n",
              "    <tr>\n",
              "      <th>4</th>\n",
              "      <td>0.197381</td>\n",
              "      <td>0.043869</td>\n",
              "      <td>0.493432</td>\n",
              "      <td>0.240048</td>\n",
              "      <td>0.094911</td>\n",
              "      <td>0.029158</td>\n",
              "      <td>2.026622</td>\n",
              "      <td>3.233654</td>\n",
              "      <td>2.099242</td>\n",
              "      <td>0.751963</td>\n",
              "      <td>0.038462</td>\n",
              "      <td>1.0</td>\n",
              "      <td>0.038462</td>\n",
              "      <td>628.472450</td>\n",
              "      <td>272.454255</td>\n",
              "      <td>137.207429</td>\n",
              "      <td>0</td>\n",
              "    </tr>\n",
              "  </tbody>\n",
              "</table>\n",
              "</div>"
            ],
            "text/plain": [
              "   avg_keystroke_time  std_keystroke_time  avg_pause_time  std_pause_time  \\\n",
              "0            0.049956            0.009726        0.101877        0.044440   \n",
              "1            0.051875            0.011260        0.108548        0.048142   \n",
              "2            0.188867            0.052601        0.478537        0.198715   \n",
              "3            0.048219            0.010992        0.110243        0.059738   \n",
              "4            0.197381            0.043869        0.493432        0.240048   \n",
              "\n",
              "   avg_key_hold_time  std_key_hold_time  typing_speed  rhythm_consistency  \\\n",
              "0           0.050494           0.008220      9.815740            4.491740   \n",
              "1           0.048437           0.009646      9.212542            4.223511   \n",
              "2           0.099359           0.030551      2.089704            4.523323   \n",
              "3           0.047159           0.009636      9.070844            3.406915   \n",
              "4           0.094911           0.029158      2.026622            3.233654   \n",
              "\n",
              "   avg_key_distance  std_key_distance  error_rate  correction_rate  \\\n",
              "0          1.430957          0.532054    0.000000              0.0   \n",
              "1          1.481098          0.454601    0.000000              0.0   \n",
              "2          2.102486          1.043184    0.052083              1.0   \n",
              "3          1.461653          0.424880    0.000000              0.0   \n",
              "4          2.099242          0.751963    0.038462              1.0   \n",
              "\n",
              "   copy_paste_frequency  mouse_speed  mouse_acceleration  mouse_jerk  target  \n",
              "0              0.109890   855.816058           84.965308   43.612724       1  \n",
              "1              0.100000   902.853033          127.843407   49.040961       1  \n",
              "2              0.010417   612.503804          178.327462  123.181083       0  \n",
              "3              0.000000   754.754488          146.790163   22.577720       1  \n",
              "4              0.038462   628.472450          272.454255  137.207429       0  "
            ]
          },
          "execution_count": 6,
          "metadata": {},
          "output_type": "execute_result"
        }
      ],
      "source": [
        "df.head()"
      ]
    },
    {
      "cell_type": "code",
      "execution_count": 7,
      "metadata": {
        "id": "DwZY4ygUxuWG"
      },
      "outputs": [],
      "source": [
        "def clean_data(df):\n",
        "    # Replace infinity with NaN\n",
        "    df = df.replace([np.inf, -np.inf], np.nan)\n",
        "\n",
        "    # Identify columns with NaN or infinite values\n",
        "    problematic_columns = df.columns[df.isin([np.inf, -np.inf, np.nan]).any()].tolist()\n",
        "\n",
        "    print(\"Columns with NaN or infinite values:\")\n",
        "    for col in problematic_columns:\n",
        "        nan_count = df[col].isna().sum()\n",
        "        inf_count = np.isinf(df[col]).sum()\n",
        "        print(f\"{col}: NaN count = {nan_count}, Inf count = {inf_count}\")\n",
        "\n",
        "    # For problematic columns, replace NaN and Inf with median\n",
        "    for col in problematic_columns:\n",
        "        median_value = df[col].median()\n",
        "        df[col] = df[col].replace([np.inf, -np.inf, np.nan], median_value)\n",
        "\n",
        "    # Clip extremely large values\n",
        "    for column in df.columns:\n",
        "        if df[column].dtype in ['float64', 'int64']:\n",
        "            lower_bound = df[column].quantile(0.001)\n",
        "            upper_bound = df[column].quantile(0.999)\n",
        "            df[column] = df[column].clip(lower_bound, upper_bound)\n",
        "\n",
        "    return df"
      ]
    },
    {
      "cell_type": "code",
      "execution_count": 8,
      "metadata": {
        "colab": {
          "base_uri": "https://localhost:8080/"
        },
        "id": "04ghnTf9DOsi",
        "outputId": "05669501-1d17-4070-ba14-84c9186b39c0"
      },
      "outputs": [
        {
          "name": "stdout",
          "output_type": "stream",
          "text": [
            "Columns with NaN or infinite values:\n",
            "rhythm_consistency: NaN count = 20, Inf count = 0\n"
          ]
        }
      ],
      "source": [
        "\n",
        "df = clean_data(df)\n",
        "\n",
        "# Convert target to numeric\n",
        "df['target'] = (df['target'] == 'bot').astype(int)\n",
        "\n",
        "# Prepare features and target\n",
        "X = df.drop('target', axis=1).values\n",
        "y = df['target'].values"
      ]
    },
    {
      "cell_type": "code",
      "execution_count": 9,
      "metadata": {
        "colab": {
          "base_uri": "https://localhost:8080/",
          "height": 254
        },
        "id": "VVKuVxv0uVN7",
        "outputId": "5fa30d1f-44ee-4a45-9de1-8935e34f9ab9"
      },
      "outputs": [
        {
          "name": "stdout",
          "output_type": "stream",
          "text": [
            "\n",
            "After cleaning:\n",
            "Any inf values in X: False\n",
            "Any nan values in X: False\n",
            "\n",
            "Dataset shape after cleaning: (30000, 17)\n",
            "\n",
            "Feature summary:\n",
            "       avg_keystroke_time  std_keystroke_time  avg_pause_time  std_pause_time  \\\n",
            "count        30000.000000        30000.000000    30000.000000    30000.000000   \n",
            "mean             0.125013            0.029562        0.299875        0.123102   \n",
            "std              0.075176            0.020045        0.200917        0.075363   \n",
            "min              0.045378            0.006540        0.077047        0.033033   \n",
            "25%              0.050007            0.009859        0.100043        0.049234   \n",
            "50%              0.108581            0.020703        0.246610        0.091680   \n",
            "75%              0.199969            0.049281        0.499591        0.196799   \n",
            "max              0.223962            0.066157        0.592264        0.267877   \n",
            "\n",
            "       avg_key_hold_time  std_key_hold_time  typing_speed  rhythm_consistency  \\\n",
            "count       30000.000000       30000.000000  30000.000000        30000.000000   \n",
            "mean            0.074990           0.019688      6.026416            3.968859   \n",
            "std             0.025185           0.010103      4.051858            0.442468   \n",
            "min             0.045471           0.006573      1.688436            2.953621   \n",
            "25%             0.049980           0.009834      2.001639            3.644689   \n",
            "50%             0.069363           0.015735      5.079883            4.054246   \n",
            "75%             0.099983           0.029557      9.995747            4.350286   \n",
            "max             0.113401           0.038886     12.979080            4.577471   \n",
            "\n",
            "       avg_key_distance  std_key_distance    error_rate  correction_rate  \\\n",
            "count      30000.000000      30000.000000  30000.000000     30000.000000   \n",
            "mean           1.749988          0.739553      0.024974         0.366907   \n",
            "std            0.274473          0.259242      0.033230         0.438438   \n",
            "min            1.265955          0.334288      0.000000         0.000000   \n",
            "25%            1.499240          0.492378      0.000000         0.000000   \n",
            "50%            1.667571          0.662975      0.000000         0.000000   \n",
            "75%            2.001369          0.987240      0.046512         0.857143   \n",
            "max            2.474615          1.310026      0.180002         1.000000   \n",
            "\n",
            "       copy_paste_frequency   mouse_speed  mouse_acceleration    mouse_jerk  \\\n",
            "count          30000.000000  30000.000000        30000.000000  30000.000000   \n",
            "mean               0.059916    650.181590          150.011096     75.085068   \n",
            "std                0.052057    169.153495           62.598836     33.476856   \n",
            "min                0.000000    218.166689           40.441034     12.764632   \n",
            "25%                0.015873    499.874875           99.207402     49.170263   \n",
            "50%                0.046154    699.465865          128.838980     62.527469   \n",
            "75%                0.097561    800.082161          199.818748     99.967498   \n",
            "max                0.269231    944.252885          342.513121    187.499818   \n",
            "\n",
            "        target  \n",
            "count  30000.0  \n",
            "mean       0.0  \n",
            "std        0.0  \n",
            "min        0.0  \n",
            "25%        0.0  \n",
            "50%        0.0  \n",
            "75%        0.0  \n",
            "max        0.0  \n"
          ]
        }
      ],
      "source": [
        "print(\"\\nAfter cleaning:\")\n",
        "print(\"Any inf values in X:\", np.any(np.isinf(X)))\n",
        "print(\"Any nan values in X:\", np.any(np.isnan(X)))\n",
        "\n",
        "# Print data info\n",
        "print(\"\\nDataset shape after cleaning:\", df.shape)\n",
        "print(\"\\nFeature summary:\")\n",
        "print(df.describe())"
      ]
    },
    {
      "cell_type": "code",
      "execution_count": 10,
      "metadata": {
        "id": "Ap_HjhYTuYNY"
      },
      "outputs": [],
      "source": [
        "X_train, X_test, y_train, y_test = train_test_split(X, y, test_size=0.2, random_state=42, stratify=y)\n",
        "scaler = StandardScaler()\n",
        "X_train_scaled = scaler.fit_transform(X_train)\n",
        "X_test_scaled = scaler.transform(X_test)"
      ]
    },
    {
      "cell_type": "code",
      "execution_count": 11,
      "metadata": {
        "id": "WlSTANAmvjrx"
      },
      "outputs": [],
      "source": [
        "# Reshape data for LSTM input (samples, time steps, features)\n",
        "X_train_reshaped = X_train_scaled.reshape((X_train_scaled.shape[0], 1, X_train_scaled.shape[1]))\n",
        "X_test_reshaped = X_test_scaled.reshape((X_test_scaled.shape[0], 1, X_test_scaled.shape[1]))\n"
      ]
    },
    {
      "cell_type": "code",
      "execution_count": 12,
      "metadata": {
        "id": "H5itzjYUPPuL"
      },
      "outputs": [
        {
          "name": "stderr",
          "output_type": "stream",
          "text": [
            "c:\\Users\\Padmajaa\\AppData\\Local\\Programs\\Python\\Python311\\Lib\\site-packages\\keras\\src\\layers\\rnn\\rnn.py:204: UserWarning: Do not pass an `input_shape`/`input_dim` argument to a layer. When using Sequential models, prefer using an `Input(shape)` object as the first layer in the model instead.\n",
            "  super().__init__(**kwargs)\n"
          ]
        }
      ],
      "source": [
        "model = Sequential([\n",
        "    LSTM(128, input_shape=(1, X_train_reshaped.shape[2]), return_sequences=True, kernel_regularizer=l2(0.01)),\n",
        "    BatchNormalization(),\n",
        "    Dropout(0.3),\n",
        "    LSTM(64, kernel_regularizer=l2(0.01)),\n",
        "    BatchNormalization(),\n",
        "    Dropout(0.3),\n",
        "    Dense(32, activation='relu', kernel_regularizer=l2(0.01)),\n",
        "    BatchNormalization(),\n",
        "    Dropout(0.3),\n",
        "    Dense(1, activation='sigmoid')\n",
        "])"
      ]
    },
    {
      "cell_type": "code",
      "execution_count": 13,
      "metadata": {
        "id": "2aGZ0de8Po2m"
      },
      "outputs": [],
      "source": [
        "model.compile(optimizer='adam', loss='binary_crossentropy', metrics=['accuracy'])\n",
        "\n",
        "# Callbacks\n",
        "early_stopping = EarlyStopping(monitor='val_loss', patience=10, restore_best_weights=True)\n",
        "reduce_lr = ReduceLROnPlateau(monitor='val_loss', factor=0.2, patience=5, min_lr=0.0001)\n"
      ]
    },
    {
      "cell_type": "code",
      "execution_count": 14,
      "metadata": {
        "id": "hs6nRvtgUk2g"
      },
      "outputs": [
        {
          "name": "stdout",
          "output_type": "stream",
          "text": [
            "Epoch 1/100\n",
            "\u001b[1m300/300\u001b[0m \u001b[32m━━━━━━━━━━━━━━━━━━━━\u001b[0m\u001b[37m\u001b[0m \u001b[1m7s\u001b[0m 8ms/step - accuracy: 0.6848 - loss: 2.0045 - val_accuracy: 1.0000 - val_loss: 0.3640 - learning_rate: 0.0010\n",
            "Epoch 2/100\n",
            "\u001b[1m300/300\u001b[0m \u001b[32m━━━━━━━━━━━━━━━━━━━━\u001b[0m\u001b[37m\u001b[0m \u001b[1m2s\u001b[0m 6ms/step - accuracy: 0.9941 - loss: 0.2590 - val_accuracy: 1.0000 - val_loss: 0.0657 - learning_rate: 0.0010\n",
            "Epoch 3/100\n",
            "\u001b[1m300/300\u001b[0m \u001b[32m━━━━━━━━━━━━━━━━━━━━\u001b[0m\u001b[37m\u001b[0m \u001b[1m2s\u001b[0m 6ms/step - accuracy: 0.9996 - loss: 0.0524 - val_accuracy: 1.0000 - val_loss: 0.0168 - learning_rate: 0.0010\n",
            "Epoch 4/100\n",
            "\u001b[1m300/300\u001b[0m \u001b[32m━━━━━━━━━━━━━━━━━━━━\u001b[0m\u001b[37m\u001b[0m \u001b[1m2s\u001b[0m 5ms/step - accuracy: 1.0000 - loss: 0.0123 - val_accuracy: 1.0000 - val_loss: 0.0039 - learning_rate: 0.0010\n",
            "Epoch 5/100\n",
            "\u001b[1m300/300\u001b[0m \u001b[32m━━━━━━━━━━━━━━━━━━━━\u001b[0m\u001b[37m\u001b[0m \u001b[1m2s\u001b[0m 5ms/step - accuracy: 1.0000 - loss: 0.0032 - val_accuracy: 1.0000 - val_loss: 0.0015 - learning_rate: 0.0010\n",
            "Epoch 6/100\n",
            "\u001b[1m300/300\u001b[0m \u001b[32m━━━━━━━━━━━━━━━━━━━━\u001b[0m\u001b[37m\u001b[0m \u001b[1m1s\u001b[0m 4ms/step - accuracy: 1.0000 - loss: 0.0017 - val_accuracy: 1.0000 - val_loss: 9.3591e-04 - learning_rate: 0.0010\n",
            "Epoch 7/100\n",
            "\u001b[1m300/300\u001b[0m \u001b[32m━━━━━━━━━━━━━━━━━━━━\u001b[0m\u001b[37m\u001b[0m \u001b[1m1s\u001b[0m 4ms/step - accuracy: 1.0000 - loss: 0.0012 - val_accuracy: 1.0000 - val_loss: 6.5677e-04 - learning_rate: 0.0010\n",
            "Epoch 8/100\n",
            "\u001b[1m300/300\u001b[0m \u001b[32m━━━━━━━━━━━━━━━━━━━━\u001b[0m\u001b[37m\u001b[0m \u001b[1m1s\u001b[0m 4ms/step - accuracy: 1.0000 - loss: 8.9190e-04 - val_accuracy: 1.0000 - val_loss: 4.7665e-04 - learning_rate: 0.0010\n",
            "Epoch 9/100\n",
            "\u001b[1m300/300\u001b[0m \u001b[32m━━━━━━━━━━━━━━━━━━━━\u001b[0m\u001b[37m\u001b[0m \u001b[1m1s\u001b[0m 4ms/step - accuracy: 1.0000 - loss: 6.6453e-04 - val_accuracy: 1.0000 - val_loss: 3.5636e-04 - learning_rate: 0.0010\n",
            "Epoch 10/100\n",
            "\u001b[1m300/300\u001b[0m \u001b[32m━━━━━━━━━━━━━━━━━━━━\u001b[0m\u001b[37m\u001b[0m \u001b[1m1s\u001b[0m 4ms/step - accuracy: 1.0000 - loss: 5.1065e-04 - val_accuracy: 1.0000 - val_loss: 2.7030e-04 - learning_rate: 0.0010\n",
            "Epoch 11/100\n",
            "\u001b[1m300/300\u001b[0m \u001b[32m━━━━━━━━━━━━━━━━━━━━\u001b[0m\u001b[37m\u001b[0m \u001b[1m1s\u001b[0m 3ms/step - accuracy: 1.0000 - loss: 4.0853e-04 - val_accuracy: 1.0000 - val_loss: 2.0750e-04 - learning_rate: 0.0010\n",
            "Epoch 12/100\n",
            "\u001b[1m300/300\u001b[0m \u001b[32m━━━━━━━━━━━━━━━━━━━━\u001b[0m\u001b[37m\u001b[0m \u001b[1m1s\u001b[0m 4ms/step - accuracy: 1.0000 - loss: 3.2556e-04 - val_accuracy: 1.0000 - val_loss: 1.6131e-04 - learning_rate: 0.0010\n",
            "Epoch 13/100\n",
            "\u001b[1m300/300\u001b[0m \u001b[32m━━━━━━━━━━━━━━━━━━━━\u001b[0m\u001b[37m\u001b[0m \u001b[1m1s\u001b[0m 4ms/step - accuracy: 1.0000 - loss: 2.5669e-04 - val_accuracy: 1.0000 - val_loss: 1.2683e-04 - learning_rate: 0.0010\n",
            "Epoch 14/100\n",
            "\u001b[1m300/300\u001b[0m \u001b[32m━━━━━━━━━━━━━━━━━━━━\u001b[0m\u001b[37m\u001b[0m \u001b[1m1s\u001b[0m 5ms/step - accuracy: 1.0000 - loss: 2.1199e-04 - val_accuracy: 1.0000 - val_loss: 1.0005e-04 - learning_rate: 0.0010\n",
            "Epoch 15/100\n",
            "\u001b[1m300/300\u001b[0m \u001b[32m━━━━━━━━━━━━━━━━━━━━\u001b[0m\u001b[37m\u001b[0m \u001b[1m1s\u001b[0m 4ms/step - accuracy: 1.0000 - loss: 1.7106e-04 - val_accuracy: 1.0000 - val_loss: 7.9813e-05 - learning_rate: 0.0010\n",
            "Epoch 16/100\n",
            "\u001b[1m300/300\u001b[0m \u001b[32m━━━━━━━━━━━━━━━━━━━━\u001b[0m\u001b[37m\u001b[0m \u001b[1m1s\u001b[0m 4ms/step - accuracy: 1.0000 - loss: 1.4165e-04 - val_accuracy: 1.0000 - val_loss: 6.3701e-05 - learning_rate: 0.0010\n",
            "Epoch 17/100\n",
            "\u001b[1m300/300\u001b[0m \u001b[32m━━━━━━━━━━━━━━━━━━━━\u001b[0m\u001b[37m\u001b[0m \u001b[1m1s\u001b[0m 5ms/step - accuracy: 1.0000 - loss: 1.2058e-04 - val_accuracy: 1.0000 - val_loss: 5.0877e-05 - learning_rate: 0.0010\n",
            "Epoch 18/100\n",
            "\u001b[1m300/300\u001b[0m \u001b[32m━━━━━━━━━━━━━━━━━━━━\u001b[0m\u001b[37m\u001b[0m \u001b[1m1s\u001b[0m 4ms/step - accuracy: 1.0000 - loss: 9.5715e-05 - val_accuracy: 1.0000 - val_loss: 4.1268e-05 - learning_rate: 0.0010\n",
            "Epoch 19/100\n",
            "\u001b[1m300/300\u001b[0m \u001b[32m━━━━━━━━━━━━━━━━━━━━\u001b[0m\u001b[37m\u001b[0m \u001b[1m1s\u001b[0m 5ms/step - accuracy: 1.0000 - loss: 8.4319e-05 - val_accuracy: 1.0000 - val_loss: 3.3244e-05 - learning_rate: 0.0010\n",
            "Epoch 20/100\n",
            "\u001b[1m300/300\u001b[0m \u001b[32m━━━━━━━━━━━━━━━━━━━━\u001b[0m\u001b[37m\u001b[0m \u001b[1m1s\u001b[0m 4ms/step - accuracy: 1.0000 - loss: 7.0799e-05 - val_accuracy: 1.0000 - val_loss: 3.1706e-05 - learning_rate: 2.0000e-04\n",
            "Epoch 21/100\n",
            "\u001b[1m300/300\u001b[0m \u001b[32m━━━━━━━━━━━━━━━━━━━━\u001b[0m\u001b[37m\u001b[0m \u001b[1m1s\u001b[0m 4ms/step - accuracy: 1.0000 - loss: 6.7397e-05 - val_accuracy: 1.0000 - val_loss: 3.0188e-05 - learning_rate: 2.0000e-04\n",
            "Epoch 22/100\n",
            "\u001b[1m300/300\u001b[0m \u001b[32m━━━━━━━━━━━━━━━━━━━━\u001b[0m\u001b[37m\u001b[0m \u001b[1m1s\u001b[0m 4ms/step - accuracy: 1.0000 - loss: 6.5043e-05 - val_accuracy: 1.0000 - val_loss: 2.8550e-05 - learning_rate: 2.0000e-04\n",
            "Epoch 23/100\n",
            "\u001b[1m300/300\u001b[0m \u001b[32m━━━━━━━━━━━━━━━━━━━━\u001b[0m\u001b[37m\u001b[0m \u001b[1m1s\u001b[0m 4ms/step - accuracy: 1.0000 - loss: 6.2807e-05 - val_accuracy: 1.0000 - val_loss: 2.6794e-05 - learning_rate: 2.0000e-04\n",
            "Epoch 24/100\n",
            "\u001b[1m300/300\u001b[0m \u001b[32m━━━━━━━━━━━━━━━━━━━━\u001b[0m\u001b[37m\u001b[0m \u001b[1m1s\u001b[0m 4ms/step - accuracy: 1.0000 - loss: 5.7534e-05 - val_accuracy: 1.0000 - val_loss: 2.5026e-05 - learning_rate: 2.0000e-04\n",
            "Epoch 25/100\n",
            "\u001b[1m300/300\u001b[0m \u001b[32m━━━━━━━━━━━━━━━━━━━━\u001b[0m\u001b[37m\u001b[0m \u001b[1m1s\u001b[0m 4ms/step - accuracy: 1.0000 - loss: 5.5565e-05 - val_accuracy: 1.0000 - val_loss: 2.4078e-05 - learning_rate: 1.0000e-04\n",
            "Epoch 26/100\n",
            "\u001b[1m300/300\u001b[0m \u001b[32m━━━━━━━━━━━━━━━━━━━━\u001b[0m\u001b[37m\u001b[0m \u001b[1m1s\u001b[0m 4ms/step - accuracy: 1.0000 - loss: 5.4007e-05 - val_accuracy: 1.0000 - val_loss: 2.3055e-05 - learning_rate: 1.0000e-04\n",
            "Epoch 27/100\n",
            "\u001b[1m300/300\u001b[0m \u001b[32m━━━━━━━━━━━━━━━━━━━━\u001b[0m\u001b[37m\u001b[0m \u001b[1m2s\u001b[0m 6ms/step - accuracy: 1.0000 - loss: 5.3550e-05 - val_accuracy: 1.0000 - val_loss: 2.1956e-05 - learning_rate: 1.0000e-04\n",
            "Epoch 28/100\n",
            "\u001b[1m300/300\u001b[0m \u001b[32m━━━━━━━━━━━━━━━━━━━━\u001b[0m\u001b[37m\u001b[0m \u001b[1m1s\u001b[0m 5ms/step - accuracy: 1.0000 - loss: 5.1662e-05 - val_accuracy: 1.0000 - val_loss: 2.0756e-05 - learning_rate: 1.0000e-04\n",
            "Epoch 29/100\n",
            "\u001b[1m300/300\u001b[0m \u001b[32m━━━━━━━━━━━━━━━━━━━━\u001b[0m\u001b[37m\u001b[0m \u001b[1m1s\u001b[0m 5ms/step - accuracy: 1.0000 - loss: 4.8349e-05 - val_accuracy: 1.0000 - val_loss: 1.9563e-05 - learning_rate: 1.0000e-04\n",
            "Epoch 30/100\n",
            "\u001b[1m300/300\u001b[0m \u001b[32m━━━━━━━━━━━━━━━━━━━━\u001b[0m\u001b[37m\u001b[0m \u001b[1m1s\u001b[0m 5ms/step - accuracy: 1.0000 - loss: 4.7171e-05 - val_accuracy: 1.0000 - val_loss: 1.8296e-05 - learning_rate: 1.0000e-04\n",
            "Epoch 31/100\n",
            "\u001b[1m300/300\u001b[0m \u001b[32m━━━━━━━━━━━━━━━━━━━━\u001b[0m\u001b[37m\u001b[0m \u001b[1m1s\u001b[0m 4ms/step - accuracy: 1.0000 - loss: 4.2539e-05 - val_accuracy: 1.0000 - val_loss: 1.6975e-05 - learning_rate: 1.0000e-04\n",
            "Epoch 32/100\n",
            "\u001b[1m300/300\u001b[0m \u001b[32m━━━━━━━━━━━━━━━━━━━━\u001b[0m\u001b[37m\u001b[0m \u001b[1m1s\u001b[0m 4ms/step - accuracy: 1.0000 - loss: 4.0114e-05 - val_accuracy: 1.0000 - val_loss: 1.5674e-05 - learning_rate: 1.0000e-04\n",
            "Epoch 33/100\n",
            "\u001b[1m300/300\u001b[0m \u001b[32m━━━━━━━━━━━━━━━━━━━━\u001b[0m\u001b[37m\u001b[0m \u001b[1m1s\u001b[0m 4ms/step - accuracy: 1.0000 - loss: 3.7061e-05 - val_accuracy: 1.0000 - val_loss: 1.4355e-05 - learning_rate: 1.0000e-04\n",
            "Epoch 34/100\n",
            "\u001b[1m300/300\u001b[0m \u001b[32m━━━━━━━━━━━━━━━━━━━━\u001b[0m\u001b[37m\u001b[0m \u001b[1m1s\u001b[0m 4ms/step - accuracy: 1.0000 - loss: 3.5585e-05 - val_accuracy: 1.0000 - val_loss: 1.3081e-05 - learning_rate: 1.0000e-04\n",
            "Epoch 35/100\n",
            "\u001b[1m300/300\u001b[0m \u001b[32m━━━━━━━━━━━━━━━━━━━━\u001b[0m\u001b[37m\u001b[0m \u001b[1m1s\u001b[0m 5ms/step - accuracy: 1.0000 - loss: 3.0374e-05 - val_accuracy: 1.0000 - val_loss: 1.1819e-05 - learning_rate: 1.0000e-04\n",
            "Epoch 36/100\n",
            "\u001b[1m300/300\u001b[0m \u001b[32m━━━━━━━━━━━━━━━━━━━━\u001b[0m\u001b[37m\u001b[0m \u001b[1m2s\u001b[0m 5ms/step - accuracy: 1.0000 - loss: 2.9366e-05 - val_accuracy: 1.0000 - val_loss: 1.0596e-05 - learning_rate: 1.0000e-04\n",
            "Epoch 37/100\n",
            "\u001b[1m300/300\u001b[0m \u001b[32m━━━━━━━━━━━━━━━━━━━━\u001b[0m\u001b[37m\u001b[0m \u001b[1m1s\u001b[0m 5ms/step - accuracy: 1.0000 - loss: 2.6341e-05 - val_accuracy: 1.0000 - val_loss: 9.4295e-06 - learning_rate: 1.0000e-04\n",
            "Epoch 38/100\n",
            "\u001b[1m300/300\u001b[0m \u001b[32m━━━━━━━━━━━━━━━━━━━━\u001b[0m\u001b[37m\u001b[0m \u001b[1m1s\u001b[0m 4ms/step - accuracy: 1.0000 - loss: 2.4459e-05 - val_accuracy: 1.0000 - val_loss: 8.3473e-06 - learning_rate: 1.0000e-04\n",
            "Epoch 39/100\n",
            "\u001b[1m300/300\u001b[0m \u001b[32m━━━━━━━━━━━━━━━━━━━━\u001b[0m\u001b[37m\u001b[0m \u001b[1m1s\u001b[0m 4ms/step - accuracy: 1.0000 - loss: 2.2679e-05 - val_accuracy: 1.0000 - val_loss: 7.3063e-06 - learning_rate: 1.0000e-04\n",
            "Epoch 40/100\n",
            "\u001b[1m300/300\u001b[0m \u001b[32m━━━━━━━━━━━━━━━━━━━━\u001b[0m\u001b[37m\u001b[0m \u001b[1m1s\u001b[0m 4ms/step - accuracy: 1.0000 - loss: 2.0765e-05 - val_accuracy: 1.0000 - val_loss: 6.3631e-06 - learning_rate: 1.0000e-04\n",
            "Epoch 41/100\n",
            "\u001b[1m300/300\u001b[0m \u001b[32m━━━━━━━━━━━━━━━━━━━━\u001b[0m\u001b[37m\u001b[0m \u001b[1m1s\u001b[0m 4ms/step - accuracy: 1.0000 - loss: 1.9336e-05 - val_accuracy: 1.0000 - val_loss: 5.5056e-06 - learning_rate: 1.0000e-04\n",
            "Epoch 42/100\n",
            "\u001b[1m300/300\u001b[0m \u001b[32m━━━━━━━━━━━━━━━━━━━━\u001b[0m\u001b[37m\u001b[0m \u001b[1m1s\u001b[0m 4ms/step - accuracy: 1.0000 - loss: 1.5925e-05 - val_accuracy: 1.0000 - val_loss: 4.7649e-06 - learning_rate: 1.0000e-04\n",
            "Epoch 43/100\n",
            "\u001b[1m300/300\u001b[0m \u001b[32m━━━━━━━━━━━━━━━━━━━━\u001b[0m\u001b[37m\u001b[0m \u001b[1m1s\u001b[0m 4ms/step - accuracy: 1.0000 - loss: 1.3345e-05 - val_accuracy: 1.0000 - val_loss: 4.0973e-06 - learning_rate: 1.0000e-04\n",
            "Epoch 44/100\n",
            "\u001b[1m300/300\u001b[0m \u001b[32m━━━━━━━━━━━━━━━━━━━━\u001b[0m\u001b[37m\u001b[0m \u001b[1m1s\u001b[0m 4ms/step - accuracy: 1.0000 - loss: 1.2675e-05 - val_accuracy: 1.0000 - val_loss: 3.5055e-06 - learning_rate: 1.0000e-04\n",
            "Epoch 45/100\n",
            "\u001b[1m300/300\u001b[0m \u001b[32m━━━━━━━━━━━━━━━━━━━━\u001b[0m\u001b[37m\u001b[0m \u001b[1m1s\u001b[0m 4ms/step - accuracy: 1.0000 - loss: 1.0745e-05 - val_accuracy: 1.0000 - val_loss: 2.9833e-06 - learning_rate: 1.0000e-04\n",
            "Epoch 46/100\n",
            "\u001b[1m300/300\u001b[0m \u001b[32m━━━━━━━━━━━━━━━━━━━━\u001b[0m\u001b[37m\u001b[0m \u001b[1m1s\u001b[0m 4ms/step - accuracy: 1.0000 - loss: 1.0288e-05 - val_accuracy: 1.0000 - val_loss: 2.5302e-06 - learning_rate: 1.0000e-04\n",
            "Epoch 47/100\n",
            "\u001b[1m300/300\u001b[0m \u001b[32m━━━━━━━━━━━━━━━━━━━━\u001b[0m\u001b[37m\u001b[0m \u001b[1m1s\u001b[0m 4ms/step - accuracy: 1.0000 - loss: 8.5992e-06 - val_accuracy: 1.0000 - val_loss: 2.1278e-06 - learning_rate: 1.0000e-04\n",
            "Epoch 48/100\n",
            "\u001b[1m300/300\u001b[0m \u001b[32m━━━━━━━━━━━━━━━━━━━━\u001b[0m\u001b[37m\u001b[0m \u001b[1m1s\u001b[0m 4ms/step - accuracy: 1.0000 - loss: 7.4508e-06 - val_accuracy: 1.0000 - val_loss: 1.7888e-06 - learning_rate: 1.0000e-04\n",
            "Epoch 49/100\n",
            "\u001b[1m300/300\u001b[0m \u001b[32m━━━━━━━━━━━━━━━━━━━━\u001b[0m\u001b[37m\u001b[0m \u001b[1m1s\u001b[0m 4ms/step - accuracy: 1.0000 - loss: 6.4371e-06 - val_accuracy: 1.0000 - val_loss: 1.4928e-06 - learning_rate: 1.0000e-04\n",
            "Epoch 50/100\n",
            "\u001b[1m300/300\u001b[0m \u001b[32m━━━━━━━━━━━━━━━━━━━━\u001b[0m\u001b[37m\u001b[0m \u001b[1m1s\u001b[0m 4ms/step - accuracy: 1.0000 - loss: 5.4749e-06 - val_accuracy: 1.0000 - val_loss: 1.2507e-06 - learning_rate: 1.0000e-04\n",
            "Epoch 51/100\n",
            "\u001b[1m300/300\u001b[0m \u001b[32m━━━━━━━━━━━━━━━━━━━━\u001b[0m\u001b[37m\u001b[0m \u001b[1m2s\u001b[0m 5ms/step - accuracy: 1.0000 - loss: 4.9971e-06 - val_accuracy: 1.0000 - val_loss: 1.0397e-06 - learning_rate: 1.0000e-04\n",
            "Epoch 52/100\n",
            "\u001b[1m300/300\u001b[0m \u001b[32m━━━━━━━━━━━━━━━━━━━━\u001b[0m\u001b[37m\u001b[0m \u001b[1m2s\u001b[0m 5ms/step - accuracy: 1.0000 - loss: 4.3295e-06 - val_accuracy: 1.0000 - val_loss: 8.6409e-07 - learning_rate: 1.0000e-04\n",
            "Epoch 53/100\n",
            "\u001b[1m300/300\u001b[0m \u001b[32m━━━━━━━━━━━━━━━━━━━━\u001b[0m\u001b[37m\u001b[0m \u001b[1m2s\u001b[0m 5ms/step - accuracy: 1.0000 - loss: 3.6736e-06 - val_accuracy: 1.0000 - val_loss: 7.2349e-07 - learning_rate: 1.0000e-04\n",
            "Epoch 54/100\n",
            "\u001b[1m300/300\u001b[0m \u001b[32m━━━━━━━━━━━━━━━━━━━━\u001b[0m\u001b[37m\u001b[0m \u001b[1m1s\u001b[0m 4ms/step - accuracy: 1.0000 - loss: 2.7701e-06 - val_accuracy: 1.0000 - val_loss: 6.0555e-07 - learning_rate: 1.0000e-04\n",
            "Epoch 55/100\n",
            "\u001b[1m300/300\u001b[0m \u001b[32m━━━━━━━━━━━━━━━━━━━━\u001b[0m\u001b[37m\u001b[0m \u001b[1m1s\u001b[0m 4ms/step - accuracy: 1.0000 - loss: 2.4866e-06 - val_accuracy: 1.0000 - val_loss: 5.0776e-07 - learning_rate: 1.0000e-04\n",
            "Epoch 56/100\n",
            "\u001b[1m300/300\u001b[0m \u001b[32m━━━━━━━━━━━━━━━━━━━━\u001b[0m\u001b[37m\u001b[0m \u001b[1m1s\u001b[0m 4ms/step - accuracy: 1.0000 - loss: 2.4534e-06 - val_accuracy: 1.0000 - val_loss: 4.1906e-07 - learning_rate: 1.0000e-04\n",
            "Epoch 57/100\n",
            "\u001b[1m300/300\u001b[0m \u001b[32m━━━━━━━━━━━━━━━━━━━━\u001b[0m\u001b[37m\u001b[0m \u001b[1m1s\u001b[0m 4ms/step - accuracy: 1.0000 - loss: 2.0571e-06 - val_accuracy: 1.0000 - val_loss: 3.4560e-07 - learning_rate: 1.0000e-04\n",
            "Epoch 58/100\n",
            "\u001b[1m300/300\u001b[0m \u001b[32m━━━━━━━━━━━━━━━━━━━━\u001b[0m\u001b[37m\u001b[0m \u001b[1m1s\u001b[0m 4ms/step - accuracy: 1.0000 - loss: 1.5603e-06 - val_accuracy: 1.0000 - val_loss: 2.8736e-07 - learning_rate: 1.0000e-04\n",
            "Epoch 59/100\n",
            "\u001b[1m300/300\u001b[0m \u001b[32m━━━━━━━━━━━━━━━━━━━━\u001b[0m\u001b[37m\u001b[0m \u001b[1m2s\u001b[0m 5ms/step - accuracy: 1.0000 - loss: 1.7102e-06 - val_accuracy: 1.0000 - val_loss: 2.3703e-07 - learning_rate: 1.0000e-04\n",
            "Epoch 60/100\n",
            "\u001b[1m300/300\u001b[0m \u001b[32m━━━━━━━━━━━━━━━━━━━━\u001b[0m\u001b[37m\u001b[0m \u001b[1m1s\u001b[0m 5ms/step - accuracy: 1.0000 - loss: 1.2026e-06 - val_accuracy: 1.0000 - val_loss: 1.9734e-07 - learning_rate: 1.0000e-04\n",
            "Epoch 61/100\n",
            "\u001b[1m300/300\u001b[0m \u001b[32m━━━━━━━━━━━━━━━━━━━━\u001b[0m\u001b[37m\u001b[0m \u001b[1m1s\u001b[0m 4ms/step - accuracy: 1.0000 - loss: 1.1196e-06 - val_accuracy: 1.0000 - val_loss: 1.6253e-07 - learning_rate: 1.0000e-04\n",
            "Epoch 62/100\n",
            "\u001b[1m300/300\u001b[0m \u001b[32m━━━━━━━━━━━━━━━━━━━━\u001b[0m\u001b[37m\u001b[0m \u001b[1m1s\u001b[0m 4ms/step - accuracy: 1.0000 - loss: 9.8384e-07 - val_accuracy: 1.0000 - val_loss: 1.3352e-07 - learning_rate: 1.0000e-04\n",
            "Epoch 63/100\n",
            "\u001b[1m300/300\u001b[0m \u001b[32m━━━━━━━━━━━━━━━━━━━━\u001b[0m\u001b[37m\u001b[0m \u001b[1m1s\u001b[0m 4ms/step - accuracy: 1.0000 - loss: 7.8466e-07 - val_accuracy: 1.0000 - val_loss: 1.1048e-07 - learning_rate: 1.0000e-04\n",
            "Epoch 64/100\n",
            "\u001b[1m300/300\u001b[0m \u001b[32m━━━━━━━━━━━━━━━━━━━━\u001b[0m\u001b[37m\u001b[0m \u001b[1m1s\u001b[0m 4ms/step - accuracy: 1.0000 - loss: 7.6110e-07 - val_accuracy: 1.0000 - val_loss: 9.0396e-08 - learning_rate: 1.0000e-04\n",
            "Epoch 65/100\n",
            "\u001b[1m300/300\u001b[0m \u001b[32m━━━━━━━━━━━━━━━━━━━━\u001b[0m\u001b[37m\u001b[0m \u001b[1m1s\u001b[0m 4ms/step - accuracy: 1.0000 - loss: 6.6416e-07 - val_accuracy: 1.0000 - val_loss: 7.4460e-08 - learning_rate: 1.0000e-04\n",
            "Epoch 66/100\n",
            "\u001b[1m300/300\u001b[0m \u001b[32m━━━━━━━━━━━━━━━━━━━━\u001b[0m\u001b[37m\u001b[0m \u001b[1m1s\u001b[0m 4ms/step - accuracy: 1.0000 - loss: 5.1923e-07 - val_accuracy: 1.0000 - val_loss: 6.2116e-08 - learning_rate: 1.0000e-04\n",
            "Epoch 67/100\n",
            "\u001b[1m300/300\u001b[0m \u001b[32m━━━━━━━━━━━━━━━━━━━━\u001b[0m\u001b[37m\u001b[0m \u001b[1m1s\u001b[0m 4ms/step - accuracy: 1.0000 - loss: 4.3943e-07 - val_accuracy: 1.0000 - val_loss: 5.1483e-08 - learning_rate: 1.0000e-04\n",
            "Epoch 68/100\n",
            "\u001b[1m300/300\u001b[0m \u001b[32m━━━━━━━━━━━━━━━━━━━━\u001b[0m\u001b[37m\u001b[0m \u001b[1m1s\u001b[0m 4ms/step - accuracy: 1.0000 - loss: 4.6650e-07 - val_accuracy: 1.0000 - val_loss: 4.1752e-08 - learning_rate: 1.0000e-04\n",
            "Epoch 69/100\n",
            "\u001b[1m300/300\u001b[0m \u001b[32m━━━━━━━━━━━━━━━━━━━━\u001b[0m\u001b[37m\u001b[0m \u001b[1m1s\u001b[0m 4ms/step - accuracy: 1.0000 - loss: 3.5558e-07 - val_accuracy: 1.0000 - val_loss: 3.4589e-08 - learning_rate: 1.0000e-04\n",
            "Epoch 70/100\n",
            "\u001b[1m300/300\u001b[0m \u001b[32m━━━━━━━━━━━━━━━━━━━━\u001b[0m\u001b[37m\u001b[0m \u001b[1m1s\u001b[0m 4ms/step - accuracy: 1.0000 - loss: 3.4617e-07 - val_accuracy: 1.0000 - val_loss: 3.0207e-08 - learning_rate: 1.0000e-04\n",
            "Epoch 71/100\n",
            "\u001b[1m300/300\u001b[0m \u001b[32m━━━━━━━━━━━━━━━━━━━━\u001b[0m\u001b[37m\u001b[0m \u001b[1m1s\u001b[0m 4ms/step - accuracy: 1.0000 - loss: 2.7495e-07 - val_accuracy: 1.0000 - val_loss: 2.3492e-08 - learning_rate: 1.0000e-04\n",
            "Epoch 72/100\n",
            "\u001b[1m300/300\u001b[0m \u001b[32m━━━━━━━━━━━━━━━━━━━━\u001b[0m\u001b[37m\u001b[0m \u001b[1m1s\u001b[0m 4ms/step - accuracy: 1.0000 - loss: 2.5968e-07 - val_accuracy: 1.0000 - val_loss: 1.9423e-08 - learning_rate: 1.0000e-04\n",
            "Epoch 73/100\n",
            "\u001b[1m300/300\u001b[0m \u001b[32m━━━━━━━━━━━━━━━━━━━━\u001b[0m\u001b[37m\u001b[0m \u001b[1m1s\u001b[0m 4ms/step - accuracy: 1.0000 - loss: 1.9546e-07 - val_accuracy: 1.0000 - val_loss: 1.6767e-08 - learning_rate: 1.0000e-04\n",
            "Epoch 74/100\n",
            "\u001b[1m300/300\u001b[0m \u001b[32m━━━━━━━━━━━━━━━━━━━━\u001b[0m\u001b[37m\u001b[0m \u001b[1m1s\u001b[0m 4ms/step - accuracy: 1.0000 - loss: 1.7131e-07 - val_accuracy: 1.0000 - val_loss: 1.3499e-08 - learning_rate: 1.0000e-04\n",
            "Epoch 75/100\n",
            "\u001b[1m300/300\u001b[0m \u001b[32m━━━━━━━━━━━━━━━━━━━━\u001b[0m\u001b[37m\u001b[0m \u001b[1m1s\u001b[0m 4ms/step - accuracy: 1.0000 - loss: 1.4604e-07 - val_accuracy: 1.0000 - val_loss: 1.1279e-08 - learning_rate: 1.0000e-04\n",
            "Epoch 76/100\n",
            "\u001b[1m300/300\u001b[0m \u001b[32m━━━━━━━━━━━━━━━━━━━━\u001b[0m\u001b[37m\u001b[0m \u001b[1m1s\u001b[0m 4ms/step - accuracy: 1.0000 - loss: 1.2108e-07 - val_accuracy: 1.0000 - val_loss: 9.5574e-09 - learning_rate: 1.0000e-04\n",
            "Epoch 77/100\n",
            "\u001b[1m300/300\u001b[0m \u001b[32m━━━━━━━━━━━━━━━━━━━━\u001b[0m\u001b[37m\u001b[0m \u001b[1m1s\u001b[0m 4ms/step - accuracy: 1.0000 - loss: 1.1727e-07 - val_accuracy: 1.0000 - val_loss: 8.0096e-09 - learning_rate: 1.0000e-04\n",
            "Epoch 78/100\n",
            "\u001b[1m300/300\u001b[0m \u001b[32m━━━━━━━━━━━━━━━━━━━━\u001b[0m\u001b[37m\u001b[0m \u001b[1m1s\u001b[0m 4ms/step - accuracy: 1.0000 - loss: 1.0129e-07 - val_accuracy: 1.0000 - val_loss: 6.7326e-09 - learning_rate: 1.0000e-04\n",
            "Epoch 79/100\n",
            "\u001b[1m300/300\u001b[0m \u001b[32m━━━━━━━━━━━━━━━━━━━━\u001b[0m\u001b[37m\u001b[0m \u001b[1m1s\u001b[0m 4ms/step - accuracy: 1.0000 - loss: 1.1466e-07 - val_accuracy: 1.0000 - val_loss: 5.6460e-09 - learning_rate: 1.0000e-04\n",
            "Epoch 80/100\n",
            "\u001b[1m300/300\u001b[0m \u001b[32m━━━━━━━━━━━━━━━━━━━━\u001b[0m\u001b[37m\u001b[0m \u001b[1m1s\u001b[0m 4ms/step - accuracy: 1.0000 - loss: 7.4556e-08 - val_accuracy: 1.0000 - val_loss: 4.9538e-09 - learning_rate: 1.0000e-04\n",
            "Epoch 81/100\n",
            "\u001b[1m300/300\u001b[0m \u001b[32m━━━━━━━━━━━━━━━━━━━━\u001b[0m\u001b[37m\u001b[0m \u001b[1m1s\u001b[0m 4ms/step - accuracy: 1.0000 - loss: 7.6228e-08 - val_accuracy: 1.0000 - val_loss: 4.0845e-09 - learning_rate: 1.0000e-04\n",
            "Epoch 82/100\n",
            "\u001b[1m300/300\u001b[0m \u001b[32m━━━━━━━━━━━━━━━━━━━━\u001b[0m\u001b[37m\u001b[0m \u001b[1m1s\u001b[0m 4ms/step - accuracy: 1.0000 - loss: 6.3462e-08 - val_accuracy: 1.0000 - val_loss: 3.4201e-09 - learning_rate: 1.0000e-04\n",
            "Epoch 83/100\n",
            "\u001b[1m300/300\u001b[0m \u001b[32m━━━━━━━━━━━━━━━━━━━━\u001b[0m\u001b[37m\u001b[0m \u001b[1m1s\u001b[0m 4ms/step - accuracy: 1.0000 - loss: 5.7727e-08 - val_accuracy: 1.0000 - val_loss: 2.8955e-09 - learning_rate: 1.0000e-04\n",
            "Epoch 84/100\n",
            "\u001b[1m300/300\u001b[0m \u001b[32m━━━━━━━━━━━━━━━━━━━━\u001b[0m\u001b[37m\u001b[0m \u001b[1m2s\u001b[0m 6ms/step - accuracy: 1.0000 - loss: 5.5760e-08 - val_accuracy: 1.0000 - val_loss: 2.5844e-09 - learning_rate: 1.0000e-04\n",
            "Epoch 85/100\n",
            "\u001b[1m300/300\u001b[0m \u001b[32m━━━━━━━━━━━━━━━━━━━━\u001b[0m\u001b[37m\u001b[0m \u001b[1m2s\u001b[0m 7ms/step - accuracy: 1.0000 - loss: 4.2506e-08 - val_accuracy: 1.0000 - val_loss: 2.1596e-09 - learning_rate: 1.0000e-04\n",
            "Epoch 86/100\n",
            "\u001b[1m300/300\u001b[0m \u001b[32m━━━━━━━━━━━━━━━━━━━━\u001b[0m\u001b[37m\u001b[0m \u001b[1m1s\u001b[0m 5ms/step - accuracy: 1.0000 - loss: 8.3719e-08 - val_accuracy: 1.0000 - val_loss: 1.7965e-09 - learning_rate: 1.0000e-04\n",
            "Epoch 87/100\n",
            "\u001b[1m300/300\u001b[0m \u001b[32m━━━━━━━━━━━━━━━━━━━━\u001b[0m\u001b[37m\u001b[0m \u001b[1m3s\u001b[0m 11ms/step - accuracy: 1.0000 - loss: 3.5826e-08 - val_accuracy: 1.0000 - val_loss: 1.5890e-09 - learning_rate: 1.0000e-04\n",
            "Epoch 88/100\n",
            "\u001b[1m300/300\u001b[0m \u001b[32m━━━━━━━━━━━━━━━━━━━━\u001b[0m\u001b[37m\u001b[0m \u001b[1m3s\u001b[0m 11ms/step - accuracy: 1.0000 - loss: 3.8107e-08 - val_accuracy: 1.0000 - val_loss: 1.4872e-09 - learning_rate: 1.0000e-04\n",
            "Epoch 89/100\n",
            "\u001b[1m300/300\u001b[0m \u001b[32m━━━━━━━━━━━━━━━━━━━━\u001b[0m\u001b[37m\u001b[0m \u001b[1m5s\u001b[0m 11ms/step - accuracy: 1.0000 - loss: 2.4494e-08 - val_accuracy: 1.0000 - val_loss: 1.2463e-09 - learning_rate: 1.0000e-04\n",
            "Epoch 90/100\n",
            "\u001b[1m300/300\u001b[0m \u001b[32m━━━━━━━━━━━━━━━━━━━━\u001b[0m\u001b[37m\u001b[0m \u001b[1m3s\u001b[0m 11ms/step - accuracy: 1.0000 - loss: 2.6767e-08 - val_accuracy: 1.0000 - val_loss: 1.1082e-09 - learning_rate: 1.0000e-04\n",
            "Epoch 91/100\n",
            "\u001b[1m300/300\u001b[0m \u001b[32m━━━━━━━━━━━━━━━━━━━━\u001b[0m\u001b[37m\u001b[0m \u001b[1m3s\u001b[0m 11ms/step - accuracy: 1.0000 - loss: 3.0701e-08 - val_accuracy: 1.0000 - val_loss: 9.7842e-10 - learning_rate: 1.0000e-04\n",
            "Epoch 92/100\n",
            "\u001b[1m300/300\u001b[0m \u001b[32m━━━━━━━━━━━━━━━━━━━━\u001b[0m\u001b[37m\u001b[0m \u001b[1m4s\u001b[0m 12ms/step - accuracy: 1.0000 - loss: 2.6513e-08 - val_accuracy: 1.0000 - val_loss: 8.8000e-10 - learning_rate: 1.0000e-04\n",
            "Epoch 93/100\n",
            "\u001b[1m300/300\u001b[0m \u001b[32m━━━━━━━━━━━━━━━━━━━━\u001b[0m\u001b[37m\u001b[0m \u001b[1m5s\u001b[0m 11ms/step - accuracy: 1.0000 - loss: 2.9243e-08 - val_accuracy: 1.0000 - val_loss: 7.8677e-10 - learning_rate: 1.0000e-04\n",
            "Epoch 94/100\n",
            "\u001b[1m300/300\u001b[0m \u001b[32m━━━━━━━━━━━━━━━━━━━━\u001b[0m\u001b[37m\u001b[0m \u001b[1m4s\u001b[0m 12ms/step - accuracy: 1.0000 - loss: 2.1598e-08 - val_accuracy: 1.0000 - val_loss: 7.0403e-10 - learning_rate: 1.0000e-04\n",
            "Epoch 95/100\n",
            "\u001b[1m300/300\u001b[0m \u001b[32m━━━━━━━━━━━━━━━━━━━━\u001b[0m\u001b[37m\u001b[0m \u001b[1m4s\u001b[0m 12ms/step - accuracy: 1.0000 - loss: 1.8462e-08 - val_accuracy: 1.0000 - val_loss: 6.4235e-10 - learning_rate: 1.0000e-04\n",
            "Epoch 96/100\n",
            "\u001b[1m300/300\u001b[0m \u001b[32m━━━━━━━━━━━━━━━━━━━━\u001b[0m\u001b[37m\u001b[0m \u001b[1m3s\u001b[0m 11ms/step - accuracy: 1.0000 - loss: 1.9199e-08 - val_accuracy: 1.0000 - val_loss: 6.2104e-10 - learning_rate: 1.0000e-04\n",
            "Epoch 97/100\n",
            "\u001b[1m300/300\u001b[0m \u001b[32m━━━━━━━━━━━━━━━━━━━━\u001b[0m\u001b[37m\u001b[0m \u001b[1m3s\u001b[0m 10ms/step - accuracy: 1.0000 - loss: 2.9715e-08 - val_accuracy: 1.0000 - val_loss: 5.5419e-10 - learning_rate: 1.0000e-04\n",
            "Epoch 98/100\n",
            "\u001b[1m300/300\u001b[0m \u001b[32m━━━━━━━━━━━━━━━━━━━━\u001b[0m\u001b[37m\u001b[0m \u001b[1m3s\u001b[0m 10ms/step - accuracy: 1.0000 - loss: 1.2453e-08 - val_accuracy: 1.0000 - val_loss: 4.6518e-10 - learning_rate: 1.0000e-04\n",
            "Epoch 99/100\n",
            "\u001b[1m300/300\u001b[0m \u001b[32m━━━━━━━━━━━━━━━━━━━━\u001b[0m\u001b[37m\u001b[0m \u001b[1m3s\u001b[0m 10ms/step - accuracy: 1.0000 - loss: 1.9972e-08 - val_accuracy: 1.0000 - val_loss: 4.2685e-10 - learning_rate: 1.0000e-04\n",
            "Epoch 100/100\n",
            "\u001b[1m300/300\u001b[0m \u001b[32m━━━━━━━━━━━━━━━━━━━━\u001b[0m\u001b[37m\u001b[0m \u001b[1m4s\u001b[0m 12ms/step - accuracy: 1.0000 - loss: 1.4901e-08 - val_accuracy: 1.0000 - val_loss: 3.9958e-10 - learning_rate: 1.0000e-04\n"
          ]
        }
      ],
      "source": [
        "history = model.fit(\n",
        "    X_train_reshaped, y_train,\n",
        "    epochs=100,\n",
        "    batch_size=64,\n",
        "    validation_split=0.2,\n",
        "    callbacks=[early_stopping, reduce_lr],\n",
        "    verbose=1\n",
        ")\n"
      ]
    },
    {
      "cell_type": "code",
      "execution_count": 26,
      "metadata": {},
      "outputs": [
        {
          "name": "stderr",
          "output_type": "stream",
          "text": [
            "WARNING:absl:You are saving your model as an HDF5 file via `model.save()` or `keras.saving.save_model(model)`. This file format is considered legacy. We recommend using instead the native Keras format, e.g. `model.save('my_model.keras')` or `keras.saving.save_model(model, 'my_model.keras')`. \n"
          ]
        }
      ],
      "source": [
        "model.save('lstm_model.h5')"
      ]
    },
    {
      "cell_type": "code",
      "execution_count": 15,
      "metadata": {
        "id": "ybNKkeQ5Xret"
      },
      "outputs": [
        {
          "name": "stdout",
          "output_type": "stream",
          "text": [
            "\u001b[1m188/188\u001b[0m \u001b[32m━━━━━━━━━━━━━━━━━━━━\u001b[0m\u001b[37m\u001b[0m \u001b[1m2s\u001b[0m 9ms/step\n"
          ]
        }
      ],
      "source": [
        "# Make predictions\n",
        "y_pred = model.predict(X_test_reshaped)\n",
        "y_pred_classes = (y_pred > 0.5).astype(int).flatten()\n"
      ]
    },
    {
      "cell_type": "code",
      "execution_count": 16,
      "metadata": {
        "id": "yyjRDMskXwfe"
      },
      "outputs": [],
      "source": [
        "def predict_bot(new_data):\n",
        "    # Ensure new_data is a 2D array\n",
        "    if new_data.ndim == 1:\n",
        "        new_data = new_data.reshape(1, -1)\n",
        "\n",
        "    # Scale the new data\n",
        "    new_data_scaled = scaler.transform(new_data)\n",
        "\n",
        "    # Reshape for LSTM input\n",
        "    new_data_reshaped = new_data_scaled.reshape((new_data_scaled.shape[0], 1, new_data_scaled.shape[1]))\n",
        "\n",
        "    # Make prediction\n",
        "    prediction = model.predict(new_data_reshaped)\n",
        "\n",
        "    # Interpret prediction\n",
        "    is_bot = prediction > 0.5\n",
        "    confidence = prediction if is_bot else 1 - prediction\n",
        "\n",
        "    return is_bot[0][0], confidence[0][0]\n"
      ]
    },
    {
      "cell_type": "markdown",
      "metadata": {
        "id": "59WMxgX4c0UC"
      },
      "source": [
        "**PREDICTION**\n"
      ]
    },
    {
      "cell_type": "code",
      "execution_count": 18,
      "metadata": {
        "id": "s3oglZGzX9h2"
      },
      "outputs": [
        {
          "name": "stdout",
          "output_type": "stream",
          "text": [
            "Is bot: False, Confidence: 0.86\n"
          ]
        }
      ],
      "source": [
        "import numpy as np\n",
        "import pandas as pd\n",
        "\n",
        "# Assuming predict_bot function is defined elsewhere\n",
        "def predict_bot(features):\n",
        "    # Replace this function with your actual model prediction logic\n",
        "    # Example mock implementation\n",
        "    is_bot = np.random.choice([True, False])  # Randomly deciding for the example\n",
        "    confidence = np.random.rand()  # Random confidence score for the example\n",
        "    return is_bot, confidence\n",
        "\n",
        "# Function to read features from a CSV file\n",
        "def read_features_from_csv(file_path):\n",
        "    # Read the CSV file\n",
        "    df = pd.read_csv(file_path)\n",
        "\n",
        "    # Assuming the CSV has a single row with the features in order\n",
        "    features = df.iloc[0].values  # Get the first row as a numpy array\n",
        "\n",
        "    return features\n",
        "\n",
        "# Input CSV file path\n",
        "csv_file_path = (r'C:\\Users\\Padmajaa\\OneDrive - SSN Trust\\INTEL CBE\\features.csv' ) # Update this to your actual file path\n",
        "\n",
        "# Read features from CSV\n",
        "real_input = read_features_from_csv(csv_file_path)\n",
        "\n",
        "# Ensure the features are in the correct format\n",
        "real_input = np.array(real_input)\n",
        "\n",
        "# Predict if it's a bot and get confidence\n",
        "is_bot, confidence = predict_bot(real_input)\n",
        "\n",
        "# Print the results\n",
        "print(f\"Is bot: {is_bot}, Confidence: {confidence:.2f}\")\n"
      ]
    },
    {
      "cell_type": "code",
      "execution_count": 24,
      "metadata": {},
      "outputs": [
        {
          "name": "stdout",
          "output_type": "stream",
          "text": [
            "Is bot: False\n"
          ]
        }
      ],
      "source": [
        "print(f\"Is bot: {is_bot}\")\n",
        "\n",
        "# Open loading.html if it's not a bot\n",
        "if is_bot:\n",
        "    webbrowser.open('loading.html')\n",
        "else:\n",
        "    webbrowser.open('Main_gh.html')"
      ]
    }
  ],
  "metadata": {
    "colab": {
      "provenance": []
    },
    "kernelspec": {
      "display_name": "Python 3",
      "name": "python3"
    },
    "language_info": {
      "codemirror_mode": {
        "name": "ipython",
        "version": 3
      },
      "file_extension": ".py",
      "mimetype": "text/x-python",
      "name": "python",
      "nbconvert_exporter": "python",
      "pygments_lexer": "ipython3",
      "version": "3.11.5"
    }
  },
  "nbformat": 4,
  "nbformat_minor": 0
}
