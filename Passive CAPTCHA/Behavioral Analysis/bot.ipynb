{
 "cells": [
  {
   "cell_type": "code",
   "execution_count": 5,
   "metadata": {},
   "outputs": [],
   "source": [
    "from pynput import keyboard\n",
    "import time\n",
    "\n",
    "keystrokes = []\n",
    "\n",
    "def on_press(key):\n",
    "    press_time = time.time()\n",
    "    keystrokes.append(('press', key, press_time))\n",
    "\n",
    "def on_release(key):\n",
    "    release_time = time.time()\n",
    "    keystrokes.append(('release', key, release_time))\n",
    "\n",
    "# Start listening to the keyboard\n",
    "with keyboard.Listener(on_press=on_press, on_release=on_release) as listener:\n",
    "    listener.join()\n",
    "\n",
    "# Process the collected data to compute hold time, DD, UD timings\n"
   ]
  }
 ],
 "metadata": {
  "kernelspec": {
   "display_name": "Python 3",
   "language": "python",
   "name": "python3"
  },
  "language_info": {
   "codemirror_mode": {
    "name": "ipython",
    "version": 3
   },
   "file_extension": ".py",
   "mimetype": "text/x-python",
   "name": "python",
   "nbconvert_exporter": "python",
   "pygments_lexer": "ipython3",
   "version": "3.11.5"
  }
 },
 "nbformat": 4,
 "nbformat_minor": 2
}
